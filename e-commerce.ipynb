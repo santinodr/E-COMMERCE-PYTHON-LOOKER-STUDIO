{
 "cells": [
  {
   "cell_type": "code",
   "execution_count": 2,
   "id": "d61d1b97",
   "metadata": {},
   "outputs": [],
   "source": [
    "import pandas as pd  \n",
    "df = pd.read_csv(\"ecommerce_sales_data_clean.csv\")"
   ]
  },
  {
   "cell_type": "code",
   "execution_count": 16,
   "id": "96143fa6",
   "metadata": {},
   "outputs": [
    {
     "name": "stdout",
     "output_type": "stream",
     "text": [
      "<class 'pandas.core.frame.DataFrame'>\n",
      "RangeIndex: 1000 entries, 0 to 999\n",
      "Data columns (total 13 columns):\n",
      " #   Column           Non-Null Count  Dtype         \n",
      "---  ------           --------------  -----         \n",
      " 0   Order_ID         1000 non-null   int64         \n",
      " 1   Product_ID       1000 non-null   int64         \n",
      " 2   Product_Name     1000 non-null   object        \n",
      " 3   Category         1000 non-null   category      \n",
      " 4   Price            1000 non-null   float64       \n",
      " 5   Quantity         1000 non-null   int64         \n",
      " 6   Date             1000 non-null   datetime64[ns]\n",
      " 7   Region           1000 non-null   category      \n",
      " 8   Customer_Age     1000 non-null   int64         \n",
      " 9   Customer_Gender  1000 non-null   category      \n",
      " 10  Returned         1000 non-null   int64         \n",
      " 11  Order_Status     1000 non-null   object        \n",
      " 12  Total            1000 non-null   float64       \n",
      "dtypes: category(3), datetime64[ns](1), float64(2), int64(5), object(2)\n",
      "memory usage: 81.6+ KB\n"
     ]
    }
   ],
   "source": [
    "df.info()"
   ]
  },
  {
   "cell_type": "code",
   "execution_count": null,
   "id": "b7dcd5f0",
   "metadata": {},
   "outputs": [],
   "source": [
    "# Change the corresponding data type\n",
    "df[\"Date\"] = pd.to_datetime(df[\"Date\"])\n",
    "df[\"Product_Name\"] = df[\"Product_Name\"].astype(\"category\")\n",
    "df[\"Category\"] = df[\"Category\"].astype(\"category\")\n",
    "df[\"Region\"] = df[\"Region\"].astype(\"category\")\n",
    "df[\"Customer_Gender\"] = df[\"Customer_Gender\"].astype(\"category\")\n"
   ]
  },
  {
   "cell_type": "code",
   "execution_count": 15,
   "id": "5b3a51d1",
   "metadata": {},
   "outputs": [
    {
     "name": "stderr",
     "output_type": "stream",
     "text": [
      "C:\\Users\\santi\\AppData\\Local\\Temp\\ipykernel_18868\\1479337918.py:2: FutureWarning: A value is trying to be set on a copy of a DataFrame or Series through chained assignment using an inplace method.\n",
      "The behavior will change in pandas 3.0. This inplace method will never work because the intermediate object on which we are setting values always behaves as a copy.\n",
      "\n",
      "For example, when doing 'df[col].method(value, inplace=True)', try using 'df.method({col: value}, inplace=True)' or df[col] = df[col].method(value) instead, to perform the operation inplace on the original object.\n",
      "\n",
      "\n",
      "  df[\"Product_Name\"].replace(\"\", \"Unknown\", inplace=True)\n"
     ]
    }
   ],
   "source": [
    "df[\"Product_Name\"] = df[\"Product_Name\"].astype(\"str\")\n",
    "df[\"Product_Name\"].replace(\"\", \"Unknown\", inplace=True)\n",
    "\n",
    "\n"
   ]
  },
  {
   "cell_type": "code",
   "execution_count": 17,
   "id": "9fee826e",
   "metadata": {},
   "outputs": [
    {
     "data": {
      "text/plain": [
       "np.int64(0)"
      ]
     },
     "execution_count": 17,
     "metadata": {},
     "output_type": "execute_result"
    }
   ],
   "source": [
    "df.duplicated(subset=[\"Order_ID\"]).sum() # Duplicates "
   ]
  },
  {
   "cell_type": "code",
   "execution_count": 18,
   "id": "6ab67d2d",
   "metadata": {},
   "outputs": [
    {
     "data": {
      "text/html": [
       "<div>\n",
       "<style scoped>\n",
       "    .dataframe tbody tr th:only-of-type {\n",
       "        vertical-align: middle;\n",
       "    }\n",
       "\n",
       "    .dataframe tbody tr th {\n",
       "        vertical-align: top;\n",
       "    }\n",
       "\n",
       "    .dataframe thead th {\n",
       "        text-align: right;\n",
       "    }\n",
       "</style>\n",
       "<table border=\"1\" class=\"dataframe\">\n",
       "  <thead>\n",
       "    <tr style=\"text-align: right;\">\n",
       "      <th></th>\n",
       "      <th>Price</th>\n",
       "      <th>Total</th>\n",
       "    </tr>\n",
       "  </thead>\n",
       "  <tbody>\n",
       "    <tr>\n",
       "      <th>count</th>\n",
       "      <td>1000.000000</td>\n",
       "      <td>1000.000000</td>\n",
       "    </tr>\n",
       "    <tr>\n",
       "      <th>mean</th>\n",
       "      <td>254.587120</td>\n",
       "      <td>761.946890</td>\n",
       "    </tr>\n",
       "    <tr>\n",
       "      <th>std</th>\n",
       "      <td>139.551511</td>\n",
       "      <td>586.795887</td>\n",
       "    </tr>\n",
       "    <tr>\n",
       "      <th>min</th>\n",
       "      <td>10.710000</td>\n",
       "      <td>12.340000</td>\n",
       "    </tr>\n",
       "    <tr>\n",
       "      <th>25%</th>\n",
       "      <td>136.152500</td>\n",
       "      <td>296.455000</td>\n",
       "    </tr>\n",
       "    <tr>\n",
       "      <th>50%</th>\n",
       "      <td>253.945000</td>\n",
       "      <td>605.000000</td>\n",
       "    </tr>\n",
       "    <tr>\n",
       "      <th>75%</th>\n",
       "      <td>376.287500</td>\n",
       "      <td>1129.035000</td>\n",
       "    </tr>\n",
       "    <tr>\n",
       "      <th>max</th>\n",
       "      <td>499.970000</td>\n",
       "      <td>2496.550000</td>\n",
       "    </tr>\n",
       "  </tbody>\n",
       "</table>\n",
       "</div>"
      ],
      "text/plain": [
       "             Price        Total\n",
       "count  1000.000000  1000.000000\n",
       "mean    254.587120   761.946890\n",
       "std     139.551511   586.795887\n",
       "min      10.710000    12.340000\n",
       "25%     136.152500   296.455000\n",
       "50%     253.945000   605.000000\n",
       "75%     376.287500  1129.035000\n",
       "max     499.970000  2496.550000"
      ]
     },
     "execution_count": 18,
     "metadata": {},
     "output_type": "execute_result"
    }
   ],
   "source": [
    "df[['Price', 'Total']].describe()\n"
   ]
  },
  {
   "cell_type": "code",
   "execution_count": 19,
   "id": "d8105ae4",
   "metadata": {},
   "outputs": [
    {
     "data": {
      "text/plain": [
       "Order_Status\n",
       "Enviado      350\n",
       "Cancelado    330\n",
       "Entregado    320\n",
       "Name: count, dtype: int64"
      ]
     },
     "execution_count": 19,
     "metadata": {},
     "output_type": "execute_result"
    }
   ],
   "source": [
    "df[\"Order_Status\"].value_counts()\n"
   ]
  },
  {
   "cell_type": "code",
   "execution_count": 23,
   "id": "c0a9c28d",
   "metadata": {},
   "outputs": [
    {
     "name": "stdout",
     "output_type": "stream",
     "text": [
      "0    1256.40\n",
      "1    1973.05\n",
      "2      30.32\n",
      "3     930.15\n",
      "4    1802.60\n",
      "5      93.91\n",
      "6     727.96\n",
      "7    1396.32\n",
      "8    1296.55\n",
      "9    1303.75\n",
      "Name: Total, dtype: float64\n"
     ]
    }
   ],
   "source": [
    "print(df[\"Total\"].head(10))\n",
    "\n"
   ]
  },
  {
   "cell_type": "code",
   "execution_count": 26,
   "id": "fd1d2c19",
   "metadata": {},
   "outputs": [
    {
     "name": "stdout",
     "output_type": "stream",
     "text": [
      "Total Sales: 761946.89\n"
     ]
    }
   ],
   "source": [
    "total_sales = df[\"Total\"].sum()\n",
    "print(f\"Total Sales: {total_sales:.2f}\")\n"
   ]
  },
  {
   "cell_type": "code",
   "execution_count": 28,
   "id": "aa41026e",
   "metadata": {},
   "outputs": [
    {
     "name": "stdout",
     "output_type": "stream",
     "text": [
      "Average Ticket: 761.95\n"
     ]
    }
   ],
   "source": [
    "average_ticket = df[\"Total\"].mean()\n",
    "print(f\"Average Ticket: {average_ticket:.2f}\")\n"
   ]
  },
  {
   "cell_type": "code",
   "execution_count": 30,
   "id": "bc3d347d",
   "metadata": {},
   "outputs": [
    {
     "name": "stderr",
     "output_type": "stream",
     "text": [
      "C:\\Users\\santi\\AppData\\Local\\Temp\\ipykernel_18868\\1048946037.py:1: FutureWarning: The default of observed=False is deprecated and will be changed to True in a future version of pandas. Pass observed=False to retain current behavior or observed=True to adopt the future default and silence this warning.\n",
      "  df.groupby(\"Category\")[\"Total\"].sum().sort_values(ascending=False)\n"
     ]
    },
    {
     "data": {
      "text/plain": [
       "Category\n",
       "Hogar          162300.47\n",
       "Juguetes       160920.84\n",
       "Electrónica    157401.65\n",
       "Alimentos      140733.97\n",
       "Ropa           140589.96\n",
       "Name: Total, dtype: float64"
      ]
     },
     "execution_count": 30,
     "metadata": {},
     "output_type": "execute_result"
    }
   ],
   "source": [
    "df.groupby(\"Category\")[\"Total\"].sum().sort_values(ascending=False)\n",
    "# Analyze sales by category:"
   ]
  },
  {
   "cell_type": "code",
   "execution_count": 32,
   "id": "99d73ce1",
   "metadata": {},
   "outputs": [],
   "source": [
    "df.to_csv(\"ecommerce_sales_data_clean.csv\", index=False)\n"
   ]
  },
  {
   "cell_type": "code",
   "execution_count": null,
   "id": "23584286",
   "metadata": {},
   "outputs": [
    {
     "name": "stdout",
     "output_type": "stream",
     "text": [
      "   Order_ID  Product_ID Product_Name  Category   Price  Quantity  \\\n",
      "0         1          10        Early  Juguetes  418.80         3   \n",
      "1         2          99           Ok      Ropa  394.61         5   \n",
      "2         3          51     Painting  Juguetes   15.16         2   \n",
      "3         4          89         Less      Ropa  310.05         3   \n",
      "4         5          60        Alone  Juguetes  450.65         4   \n",
      "\n",
      "                  Date  Region  Customer_Age Customer_Gender  Returned  \\\n",
      "0  2023-12-24 06:30:09  Centro            23       Masculino         1   \n",
      "1  2023-07-06 14:07:01   Norte            30            Otro         1   \n",
      "2  2023-01-09 21:45:09     Sur            39            Otro         1   \n",
      "3  2023-06-21 12:53:31  Centro            40       Masculino         0   \n",
      "4  2023-11-07 12:00:30  Centro            29       Masculino         1   \n",
      "\n",
      "  Order_Status    Total  \n",
      "0    Entregado  1256.40  \n",
      "1      Enviado  1973.05  \n",
      "2    Entregado    30.32  \n",
      "3    Cancelado   930.15  \n",
      "4    Entregado  1802.60  \n"
     ]
    }
   ],
   "source": [
    "import pandas as pd\n",
    "\n",
    "df = pd.read_csv(\"ecommerce_sales_data_clean.csv\")\n",
    "print(df.head())  # To see dates for looker studio\n"
   ]
  },
  {
   "cell_type": "code",
   "execution_count": 13,
   "id": "982a0e9b",
   "metadata": {},
   "outputs": [
    {
     "name": "stdout",
     "output_type": "stream",
     "text": [
      "MIN DATE: 2023-01-01 02:40:26\n",
      "MAX DATE: 2023-12-30 19:21:58\n"
     ]
    }
   ],
   "source": [
    "print(f\"MIN DATE: {df['Date'].min()}\")\n",
    "print(f\"MAX DATE: {df['Date'].max()}\")\n"
   ]
  }
 ],
 "metadata": {
  "kernelspec": {
   "display_name": "Python 3",
   "language": "python",
   "name": "python3"
  },
  "language_info": {
   "codemirror_mode": {
    "name": "ipython",
    "version": 3
   },
   "file_extension": ".py",
   "mimetype": "text/x-python",
   "name": "python",
   "nbconvert_exporter": "python",
   "pygments_lexer": "ipython3",
   "version": "3.13.3"
  }
 },
 "nbformat": 4,
 "nbformat_minor": 5
}
